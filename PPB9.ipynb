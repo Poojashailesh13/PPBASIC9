{
 "cells": [
  {
   "cell_type": "code",
   "execution_count": 1,
   "id": "b83760b9",
   "metadata": {},
   "outputs": [
    {
     "name": "stdout",
     "output_type": "stream",
     "text": [
      "6\n",
      "disarium number\n"
     ]
    }
   ],
   "source": [
    "#1. Write a Python program to check if the given number is a Disarium Number?\n",
    "num = int(input())\n",
    "rem = s = 0;    \n",
    "len = len(str(num))   \n",
    "n = num;    \n",
    "while(num > 0):    \n",
    "    rem = num%10;    \n",
    "    s += int(rem**len);    \n",
    "    num = num//10;    \n",
    "    len -= 1;    \n",
    "        \n",
    "if(s == n):    \n",
    "    print( \"disarium number\");    \n",
    "else:    \n",
    "    print(\" not a disarium number\");    "
   ]
  },
  {
   "cell_type": "code",
   "execution_count": 2,
   "id": "a7cdc5a0",
   "metadata": {},
   "outputs": [
    {
     "name": "stdout",
     "output_type": "stream",
     "text": [
      "Disarium numbers between 1 and 100 are\n",
      "1\n",
      "2\n",
      "3\n",
      "4\n",
      "5\n",
      "6\n",
      "7\n",
      "8\n",
      "9\n",
      "89\n"
     ]
    }
   ],
   "source": [
    "#2. Write a Python program to print all disarium numbers between 1 to 100?\n",
    "def Length(n):    \n",
    "    length = 0;    \n",
    "    while(n != 0):                   \n",
    "        length = length + 1;    \n",
    "        n = n//10;    \n",
    "    return length;    \n",
    "     \n",
    "#sumDigit()  \n",
    "def sumdigit(num):    \n",
    "    rem = sum = 0;    \n",
    "    len = Length(num);     \n",
    "        \n",
    "    while(num > 0):    \n",
    "        rem = num%10;   \n",
    "        sum = sum + (rem**len);    \n",
    "        num = num//10;    \n",
    "        len = len - 1;    \n",
    "    return sum;    \n",
    "      \n",
    "result = 0;    \n",
    "     \n",
    "\n",
    "print(\"Disarium numbers between 1 and 100 are\");    \n",
    "for i in range(1, 101):           \n",
    "    result = sumdigit(i);    \n",
    "        \n",
    "    if(result == i):    \n",
    "        print(i),   "
   ]
  },
  {
   "cell_type": "code",
   "execution_count": 4,
   "id": "ebe34dd7",
   "metadata": {},
   "outputs": [
    {
     "name": "stdout",
     "output_type": "stream",
     "text": [
      "True\n",
      "True\n",
      "False\n"
     ]
    }
   ],
   "source": [
    "#3. Write a Python program to check if the given number is Happy Number?\n",
    "def is_Happy_num(n):\n",
    "  past = set()\n",
    "  while n != 1:\n",
    "        n = sum(int(i)**2 for i in str(n))\n",
    "        if n in past:\n",
    "            return False\n",
    "        past.add(n)\n",
    "  return True\n",
    "print(is_Happy_num(7))\n",
    "print(is_Happy_num(932))\n",
    "print(is_Happy_num(6))"
   ]
  },
  {
   "cell_type": "code",
   "execution_count": 5,
   "id": "07dab6a4",
   "metadata": {},
   "outputs": [
    {
     "name": "stdout",
     "output_type": "stream",
     "text": [
      "Enter the Minimum Happy Number = 10\n",
      "Enter the Maximum Happy Number = 100\n",
      "\n",
      "The List of Happy Numbers from 10 and 100\n",
      "10  13  19  23  28  31  32  44  49  68  70  79  82  86  91  94  97  100  "
     ]
    }
   ],
   "source": [
    "#4. Write a Python program to print all happy numbers between 1 and 100?\n",
    "import math\n",
    "def digitsSquareSum(Number):\n",
    "    Sum = rem = 0\n",
    "    while Number > 0:\n",
    "        rem = Number % 10\n",
    "        Sum = Sum + math.pow(rem, 2)\n",
    "        Number = Number // 10\n",
    "    return Sum\n",
    "\n",
    "\n",
    "minHpy = int(input(\"Enter the Minimum Happy Number = \"))\n",
    "maxHpy = int(input(\"Enter the Maximum Happy Number = \"))\n",
    "\n",
    "print(\"\\nThe List of Happy Numbers from {0} and {1}\".format(minHpy, maxHpy)) \n",
    "for i in range(minHpy, maxHpy + 1):\n",
    "    Temp = i\n",
    "\n",
    "    while Temp != 1 and Temp != 4:\n",
    "        Temp = digitsSquareSum(Temp)\n",
    "\n",
    "    if Temp == 1:\n",
    "        print(i, end  = '  ')"
   ]
  },
  {
   "cell_type": "code",
   "execution_count": 7,
   "id": "216e5220",
   "metadata": {},
   "outputs": [
    {
     "name": "stdout",
     "output_type": "stream",
     "text": [
      "Enter the Number to Check Harshad Number = 158\n",
      "The Sum of the Digits = 14\n",
      "158 is Not a Harshad Number.\n"
     ]
    }
   ],
   "source": [
    "#5. Write a Python program to determine whether the given number is a Harshad Number?\n",
    "Number = int(input(\"Enter the Number to Check Harshad Number = \"))\n",
    "Sum = 0\n",
    "rem = 0\n",
    "\n",
    "Temp = Number\n",
    "while Temp > 0:\n",
    "    rem = Temp % 10\n",
    "    Sum = Sum + rem\n",
    "    Temp = Temp // 10\n",
    "\n",
    "print(\"The Sum of the Digits = %d\" %Sum)\n",
    "\n",
    "if Number % Sum == 0:\n",
    "    print(\"\\n%d is a Harshad Number.\" %Number)\n",
    "else:\n",
    "    print(\"%d is Not a Harshad Number.\" %Number)\n",
    "   "
   ]
  },
  {
   "cell_type": "code",
   "execution_count": 8,
   "id": "e5d761fc",
   "metadata": {},
   "outputs": [
    {
     "name": "stdout",
     "output_type": "stream",
     "text": [
      "Enter the Minimum Pronic Number = 1\n",
      "Enter the Maximum Pronic Number = 100\n",
      "\n",
      "The List of Pronic Numbers from 1 and 100\n",
      "2   6   12   20   30   42   56   72   90   "
     ]
    }
   ],
   "source": [
    "#6. Write a Python program to print all pronic numbers between 1 and 100?\n",
    "def checkPronic(Number):\n",
    "    i = 0\n",
    "    flag = 0\n",
    "    while i <= Number:\n",
    "        if Number == i * (i + 1):\n",
    "            flag = 1\n",
    "            break\n",
    "        i = i + 1\n",
    "    return flag\n",
    "\n",
    "minPro = int(input(\"Enter the Minimum Pronic Number = \"))\n",
    "maxPro = int(input(\"Enter the Maximum Pronic Number = \"))\n",
    "\n",
    "print(\"\\nThe List of Pronic Numbers from {0} and {1}\".format(minPro, maxPro)) \n",
    "for i in range(minPro, maxPro):\n",
    "    if(checkPronic(i) == 1):\n",
    "        print(i, end = '   ')"
   ]
  },
  {
   "cell_type": "code",
   "execution_count": null,
   "id": "387768e9",
   "metadata": {},
   "outputs": [],
   "source": []
  }
 ],
 "metadata": {
  "kernelspec": {
   "display_name": "Python 3 (ipykernel)",
   "language": "python",
   "name": "python3"
  },
  "language_info": {
   "codemirror_mode": {
    "name": "ipython",
    "version": 3
   },
   "file_extension": ".py",
   "mimetype": "text/x-python",
   "name": "python",
   "nbconvert_exporter": "python",
   "pygments_lexer": "ipython3",
   "version": "3.9.7"
  }
 },
 "nbformat": 4,
 "nbformat_minor": 5
}
